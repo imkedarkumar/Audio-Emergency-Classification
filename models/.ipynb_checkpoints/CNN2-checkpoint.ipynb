{
 "cells": [
  {
   "cell_type": "code",
   "execution_count": 1,
   "id": "2c33fe48-4563-4240-8e7c-f7e413c9a629",
   "metadata": {},
   "outputs": [],
   "source": [
    "import os\n",
    "import librosa\n",
    "import numpy as np\n",
    "\n",
    "# Directories containing scream and non-scream audio files\n",
    "scream_dir = r\"C:\\Users\\user\\Desktop\\Project\\files\\scream\"\n",
    "non_scream_dir = r\"C:\\Users\\user\\Desktop\\Project\\files\\nonscream\"\n",
    "\n",
    "# Function to extract MFCC features for each audio file\n",
    "def extract_mfcc(audio_file):\n",
    "    y, sr = librosa.load(audio_file)\n",
    "    mfcc = librosa.feature.mfcc(y=y, sr=sr, n_mfcc=13)\n",
    "    return mfcc\n",
    "\n",
    "# Function to process all audio files in a directory and store their MFCCs\n",
    "def process_directory(directory):\n",
    "    mfcc_list = []\n",
    "    for filename in os.listdir(directory):\n",
    "        if filename.endswith(\".wav\"):  # Assuming your files are in WAV format\n",
    "            audio_path = os.path.join(directory, filename)\n",
    "            mfcc = extract_mfcc(audio_path)\n",
    "            mfcc_list.append(mfcc)\n",
    "    return mfcc_list\n",
    "\n",
    "# Extract MFCCs from scream and non-scream directories\n",
    "scream_mfccs = process_directory(scream_dir)\n",
    "non_scream_mfccs = process_directory(non_scream_dir)\n"
   ]
  },
  {
   "cell_type": "code",
   "execution_count": 55,
   "id": "b5fe548f-2e05-485b-9df2-76b357929ab9",
   "metadata": {},
   "outputs": [],
   "source": [
    "def pad_mfcc(mfcc, max_len=128):\n",
    "    if mfcc.shape[1] < max_len:\n",
    "        # Pad with zeros if too short\n",
    "        pad_width = max_len - mfcc.shape[1]\n",
    "        mfcc = np.pad(mfcc, pad_width=((0, 0), (0, pad_width)), mode='constant')\n",
    "    else:\n",
    "        # Truncate if too long\n",
    "        mfcc = mfcc[:, :max_len]\n",
    "        mfcc = np.array(mfcc)\n",
    "    return mfcc\n",
    "\n",
    "# Apply padding/truncating to MFCCs\n",
    "scream_mfccs = [pad_mfcc(mfcc) for mfcc in scream_mfccs]\n",
    "non_scream_mfccs = [pad_mfcc(mfcc) for mfcc in non_scream_mfccs]\n"
   ]
  },
  {
   "cell_type": "code",
   "execution_count": 56,
   "id": "484ff324-5768-4668-9aa8-5007298e0b08",
   "metadata": {},
   "outputs": [],
   "source": [
    "# Create labels\n",
    "scream_labels = [1] * len(scream_mfccs)\n",
    "non_scream_labels = [0] * len(non_scream_mfccs)\n",
    "\n",
    "# Combine data and labels\n",
    "X = np.array(scream_mfccs + non_scream_mfccs)\n",
    "y = np.array(scream_labels + non_scream_labels)\n",
    "import sklearn\n",
    "from sklearn.model_selection import train_test_split\n",
    "X_train, X_test, y_train, y_test = train_test_split(X,y,test_size=0.2)\n"
   ]
  },
  {
   "cell_type": "code",
   "execution_count": 151,
   "id": "aba32147-2cf8-4ec7-bf8a-1f2759e81a8f",
   "metadata": {},
   "outputs": [
    {
     "name": "stdout",
     "output_type": "stream",
     "text": [
      "Epoch 1/10\n",
      "\u001b[1m63/63\u001b[0m \u001b[32m━━━━━━━━━━━━━━━━━━━━\u001b[0m\u001b[37m\u001b[0m \u001b[1m4s\u001b[0m 46ms/step - accuracy: 0.6643 - loss: 10.0997 - val_accuracy: 0.9381 - val_loss: 0.1525\n",
      "Epoch 2/10\n",
      "\u001b[1m63/63\u001b[0m \u001b[32m━━━━━━━━━━━━━━━━━━━━\u001b[0m\u001b[37m\u001b[0m \u001b[1m3s\u001b[0m 43ms/step - accuracy: 0.9450 - loss: 0.1643 - val_accuracy: 0.9301 - val_loss: 0.1366\n",
      "Epoch 3/10\n",
      "\u001b[1m63/63\u001b[0m \u001b[32m━━━━━━━━━━━━━━━━━━━━\u001b[0m\u001b[37m\u001b[0m \u001b[1m3s\u001b[0m 43ms/step - accuracy: 0.9545 - loss: 0.1154 - val_accuracy: 0.9581 - val_loss: 0.1070\n",
      "Epoch 4/10\n",
      "\u001b[1m63/63\u001b[0m \u001b[32m━━━━━━━━━━━━━━━━━━━━\u001b[0m\u001b[37m\u001b[0m \u001b[1m3s\u001b[0m 44ms/step - accuracy: 0.9602 - loss: 0.1050 - val_accuracy: 0.9082 - val_loss: 0.2157\n",
      "Epoch 5/10\n",
      "\u001b[1m63/63\u001b[0m \u001b[32m━━━━━━━━━━━━━━━━━━━━\u001b[0m\u001b[37m\u001b[0m \u001b[1m3s\u001b[0m 43ms/step - accuracy: 0.9628 - loss: 0.0907 - val_accuracy: 0.9661 - val_loss: 0.1011\n",
      "Epoch 6/10\n",
      "\u001b[1m63/63\u001b[0m \u001b[32m━━━━━━━━━━━━━━━━━━━━\u001b[0m\u001b[37m\u001b[0m \u001b[1m3s\u001b[0m 43ms/step - accuracy: 0.9781 - loss: 0.0612 - val_accuracy: 0.9601 - val_loss: 0.1189\n",
      "Epoch 7/10\n",
      "\u001b[1m63/63\u001b[0m \u001b[32m━━━━━━━━━━━━━━━━━━━━\u001b[0m\u001b[37m\u001b[0m \u001b[1m3s\u001b[0m 43ms/step - accuracy: 0.9835 - loss: 0.0387 - val_accuracy: 0.9641 - val_loss: 0.0968\n",
      "Epoch 8/10\n",
      "\u001b[1m63/63\u001b[0m \u001b[32m━━━━━━━━━━━━━━━━━━━━\u001b[0m\u001b[37m\u001b[0m \u001b[1m3s\u001b[0m 43ms/step - accuracy: 0.9915 - loss: 0.0281 - val_accuracy: 0.9681 - val_loss: 0.1095\n",
      "Epoch 9/10\n",
      "\u001b[1m63/63\u001b[0m \u001b[32m━━━━━━━━━━━━━━━━━━━━\u001b[0m\u001b[37m\u001b[0m \u001b[1m3s\u001b[0m 46ms/step - accuracy: 0.9927 - loss: 0.0309 - val_accuracy: 0.9661 - val_loss: 0.1080\n",
      "Epoch 10/10\n",
      "\u001b[1m63/63\u001b[0m \u001b[32m━━━━━━━━━━━━━━━━━━━━\u001b[0m\u001b[37m\u001b[0m \u001b[1m3s\u001b[0m 44ms/step - accuracy: 0.9927 - loss: 0.0224 - val_accuracy: 0.9641 - val_loss: 0.1350\n"
     ]
    },
    {
     "data": {
      "text/plain": [
       "<keras.src.callbacks.history.History at 0x29f024c6600>"
      ]
     },
     "execution_count": 151,
     "metadata": {},
     "output_type": "execute_result"
    }
   ],
   "source": [
    "\n",
    "#model creation\n",
    "import tensorflow as tf\n",
    "model = tf.keras.models.Sequential([\n",
    "    # First convolutional layer\n",
    "    tf.keras.layers.Conv2D(32, (3, 3), activation='relu', input_shape=(13, 128, 1), padding='same'),  # MFCC shape (13, 128) with 1 channel\n",
    "    tf.keras.layers.MaxPooling2D(2, 2, padding='same'),\n",
    "    \n",
    "    # Second convolutional layer\n",
    "    tf.keras.layers.Conv2D(64, (3, 3), activation='relu', padding='same'),\n",
    "    tf.keras.layers.MaxPooling2D(2, 2, padding='same'),\n",
    "    \n",
    "    # Third convolutional layer\n",
    "    tf.keras.layers.Conv2D(128, (3, 3), activation='relu', padding='same'),\n",
    "    tf.keras.layers.MaxPooling2D(2, 2, padding='same'),\n",
    "    tf.keras.layers.Flatten(),\n",
    "    # Flatten the output and add Dense layers\n",
    "    #tf.keras.layers.Flatten(),\n",
    "    tf.keras.layers.Dense(512, activation='relu'),\n",
    "    tf.keras.layers.Dense(1, activation='sigmoid')  # Binary classification: scream or non-scream\n",
    "      # Assuming you want to reshape to 4096\n",
    "\n",
    "])\n",
    "\n",
    "# Compile the model\n",
    "model.compile(optimizer='adam', loss='binary_crossentropy', metrics=['accuracy'])\n",
    "\n",
    "# Train the model\n",
    "model.fit(X_train, y_train, epochs=10, batch_size=32, validation_split=0.2)\n"
   ]
  },
  {
   "cell_type": "code",
   "execution_count": 58,
   "id": "582b64a6-7928-40fe-ba0f-64b82aa55542",
   "metadata": {},
   "outputs": [
    {
     "name": "stdout",
     "output_type": "stream",
     "text": [
      "\u001b[1m20/20\u001b[0m \u001b[32m━━━━━━━━━━━━━━━━━━━━\u001b[0m\u001b[37m\u001b[0m \u001b[1m0s\u001b[0m 11ms/step - accuracy: 0.9343 - loss: 0.2647\n"
     ]
    },
    {
     "data": {
      "text/plain": [
       "[0.24131731688976288, 0.9376996755599976]"
      ]
     },
     "execution_count": 58,
     "metadata": {},
     "output_type": "execute_result"
    }
   ],
   "source": [
    "model.evaluate(X_test, y_test)"
   ]
  },
  {
   "cell_type": "code",
   "execution_count": 141,
   "id": "4832b46f-40eb-4533-8214-4db4dd882006",
   "metadata": {},
   "outputs": [],
   "source": [
    "def reshape_mfcc(mfcc):\n",
    "   \n",
    "    reshaped_mfcc = mfcc.reshape( 13, 128, 1)\n",
    "    return reshaped_mfcc"
   ]
  },
  {
   "cell_type": "code",
   "execution_count": 152,
   "id": "0e6e73f6-a3f4-41b0-8e50-6cf042dc7af3",
   "metadata": {},
   "outputs": [
    {
     "data": {
      "text/plain": [
       "(13, 128, 1)"
      ]
     },
     "execution_count": 152,
     "metadata": {},
     "output_type": "execute_result"
    }
   ],
   "source": [
    "inp=r\"C:\\Users\\user\\Desktop\\Project\\files\\testaudio\\2.wav\"\n",
    "mfcc=extract_mfcc(inp)\n",
    "test_mfcc=pad_mfcc(mfcc)\n",
    "test_mfcc=reshape_mfcc(test_mfcc)\n",
    "test_mfcc.shape"
   ]
  },
  {
   "cell_type": "code",
   "execution_count": 153,
   "id": "d2d1405d-f121-49aa-a5b2-8c73df911b3f",
   "metadata": {},
   "outputs": [
    {
     "ename": "ValueError",
     "evalue": "Exception encountered when calling Sequential.call().\n\n\u001b[1mInput 0 of layer \"dense_16\" is incompatible with the layer: expected axis -1 of input shape to have value 4096, but received input with shape (13, 2048)\u001b[0m\n\nArguments received by Sequential.call():\n  • inputs=tf.Tensor(shape=(13, 128, 1), dtype=float32)\n  • training=False\n  • mask=None",
     "output_type": "error",
     "traceback": [
      "\u001b[1;31m---------------------------------------------------------------------------\u001b[0m",
      "\u001b[1;31mValueError\u001b[0m                                Traceback (most recent call last)",
      "Cell \u001b[1;32mIn[153], line 1\u001b[0m\n\u001b[1;32m----> 1\u001b[0m prediction \u001b[38;5;241m=\u001b[39m \u001b[43mmodel\u001b[49m\u001b[38;5;241;43m.\u001b[39;49m\u001b[43mpredict\u001b[49m\u001b[43m(\u001b[49m\u001b[43mtest_mfcc\u001b[49m\u001b[43m)\u001b[49m\n",
      "File \u001b[1;32m~\\AppData\\Local\\Programs\\Python\\Python312\\Lib\\site-packages\\keras\\src\\utils\\traceback_utils.py:122\u001b[0m, in \u001b[0;36mfilter_traceback.<locals>.error_handler\u001b[1;34m(*args, **kwargs)\u001b[0m\n\u001b[0;32m    119\u001b[0m     filtered_tb \u001b[38;5;241m=\u001b[39m _process_traceback_frames(e\u001b[38;5;241m.\u001b[39m__traceback__)\n\u001b[0;32m    120\u001b[0m     \u001b[38;5;66;03m# To get the full stack trace, call:\u001b[39;00m\n\u001b[0;32m    121\u001b[0m     \u001b[38;5;66;03m# `keras.config.disable_traceback_filtering()`\u001b[39;00m\n\u001b[1;32m--> 122\u001b[0m     \u001b[38;5;28;01mraise\u001b[39;00m e\u001b[38;5;241m.\u001b[39mwith_traceback(filtered_tb) \u001b[38;5;28;01mfrom\u001b[39;00m \u001b[38;5;28;01mNone\u001b[39;00m\n\u001b[0;32m    123\u001b[0m \u001b[38;5;28;01mfinally\u001b[39;00m:\n\u001b[0;32m    124\u001b[0m     \u001b[38;5;28;01mdel\u001b[39;00m filtered_tb\n",
      "File \u001b[1;32m~\\AppData\\Local\\Programs\\Python\\Python312\\Lib\\site-packages\\keras\\src\\layers\\input_spec.py:227\u001b[0m, in \u001b[0;36massert_input_compatibility\u001b[1;34m(input_spec, inputs, layer_name)\u001b[0m\n\u001b[0;32m    222\u001b[0m     \u001b[38;5;28;01mfor\u001b[39;00m axis, value \u001b[38;5;129;01min\u001b[39;00m spec\u001b[38;5;241m.\u001b[39maxes\u001b[38;5;241m.\u001b[39mitems():\n\u001b[0;32m    223\u001b[0m         \u001b[38;5;28;01mif\u001b[39;00m value \u001b[38;5;129;01mis\u001b[39;00m \u001b[38;5;129;01mnot\u001b[39;00m \u001b[38;5;28;01mNone\u001b[39;00m \u001b[38;5;129;01mand\u001b[39;00m shape[axis] \u001b[38;5;129;01mnot\u001b[39;00m \u001b[38;5;129;01min\u001b[39;00m {\n\u001b[0;32m    224\u001b[0m             value,\n\u001b[0;32m    225\u001b[0m             \u001b[38;5;28;01mNone\u001b[39;00m,\n\u001b[0;32m    226\u001b[0m         }:\n\u001b[1;32m--> 227\u001b[0m             \u001b[38;5;28;01mraise\u001b[39;00m \u001b[38;5;167;01mValueError\u001b[39;00m(\n\u001b[0;32m    228\u001b[0m                 \u001b[38;5;124mf\u001b[39m\u001b[38;5;124m'\u001b[39m\u001b[38;5;124mInput \u001b[39m\u001b[38;5;132;01m{\u001b[39;00minput_index\u001b[38;5;132;01m}\u001b[39;00m\u001b[38;5;124m of layer \u001b[39m\u001b[38;5;124m\"\u001b[39m\u001b[38;5;132;01m{\u001b[39;00mlayer_name\u001b[38;5;132;01m}\u001b[39;00m\u001b[38;5;124m\"\u001b[39m\u001b[38;5;124m is \u001b[39m\u001b[38;5;124m'\u001b[39m\n\u001b[0;32m    229\u001b[0m                 \u001b[38;5;124mf\u001b[39m\u001b[38;5;124m\"\u001b[39m\u001b[38;5;124mincompatible with the layer: expected axis \u001b[39m\u001b[38;5;132;01m{\u001b[39;00maxis\u001b[38;5;132;01m}\u001b[39;00m\u001b[38;5;124m \u001b[39m\u001b[38;5;124m\"\u001b[39m\n\u001b[0;32m    230\u001b[0m                 \u001b[38;5;124mf\u001b[39m\u001b[38;5;124m\"\u001b[39m\u001b[38;5;124mof input shape to have value \u001b[39m\u001b[38;5;132;01m{\u001b[39;00mvalue\u001b[38;5;132;01m}\u001b[39;00m\u001b[38;5;124m, \u001b[39m\u001b[38;5;124m\"\u001b[39m\n\u001b[0;32m    231\u001b[0m                 \u001b[38;5;124m\"\u001b[39m\u001b[38;5;124mbut received input with \u001b[39m\u001b[38;5;124m\"\u001b[39m\n\u001b[0;32m    232\u001b[0m                 \u001b[38;5;124mf\u001b[39m\u001b[38;5;124m\"\u001b[39m\u001b[38;5;124mshape \u001b[39m\u001b[38;5;132;01m{\u001b[39;00mshape\u001b[38;5;132;01m}\u001b[39;00m\u001b[38;5;124m\"\u001b[39m\n\u001b[0;32m    233\u001b[0m             )\n\u001b[0;32m    234\u001b[0m \u001b[38;5;66;03m# Check shape.\u001b[39;00m\n\u001b[0;32m    235\u001b[0m \u001b[38;5;28;01mif\u001b[39;00m spec\u001b[38;5;241m.\u001b[39mshape \u001b[38;5;129;01mis\u001b[39;00m \u001b[38;5;129;01mnot\u001b[39;00m \u001b[38;5;28;01mNone\u001b[39;00m:\n",
      "\u001b[1;31mValueError\u001b[0m: Exception encountered when calling Sequential.call().\n\n\u001b[1mInput 0 of layer \"dense_16\" is incompatible with the layer: expected axis -1 of input shape to have value 4096, but received input with shape (13, 2048)\u001b[0m\n\nArguments received by Sequential.call():\n  • inputs=tf.Tensor(shape=(13, 128, 1), dtype=float32)\n  • training=False\n  • mask=None"
     ]
    }
   ],
   "source": [
    "prediction = model.predict(test_mfcc)"
   ]
  },
  {
   "cell_type": "code",
   "execution_count": null,
   "id": "9b170d05-a7b3-4826-8644-8e581053a51a",
   "metadata": {},
   "outputs": [],
   "source": []
  },
  {
   "cell_type": "code",
   "execution_count": null,
   "id": "6870e137-73ac-47e3-8fba-40b04cb76c25",
   "metadata": {},
   "outputs": [],
   "source": []
  },
  {
   "cell_type": "code",
   "execution_count": null,
   "id": "e456f784-f479-4a58-820b-574aed41cc1d",
   "metadata": {},
   "outputs": [],
   "source": []
  },
  {
   "cell_type": "code",
   "execution_count": null,
   "id": "b0da68fa-c39b-422e-85bb-7e3b306dbd68",
   "metadata": {},
   "outputs": [],
   "source": []
  }
 ],
 "metadata": {
  "kernelspec": {
   "display_name": "Python 3 (ipykernel)",
   "language": "python",
   "name": "python3"
  },
  "language_info": {
   "codemirror_mode": {
    "name": "ipython",
    "version": 3
   },
   "file_extension": ".py",
   "mimetype": "text/x-python",
   "name": "python",
   "nbconvert_exporter": "python",
   "pygments_lexer": "ipython3",
   "version": "3.12.5"
  }
 },
 "nbformat": 4,
 "nbformat_minor": 5
}

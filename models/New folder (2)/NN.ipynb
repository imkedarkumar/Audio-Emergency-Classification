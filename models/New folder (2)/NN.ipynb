{
 "cells": [
  {
   "cell_type": "code",
   "execution_count": 1,
   "id": "1b91a03d-61a4-4191-a0a2-f11b35d9f88c",
   "metadata": {},
   "outputs": [],
   "source": [
    "import pandas as pd\n",
    "import numpy as np\n",
    "import tensorflow as tf\n",
    "import sklearn\n",
    "from sklearn.model_selection import train_test_split\n",
    "from tensorflow import keras\n",
    "from tensorflow.keras import layers, models"
   ]
  },
  {
   "cell_type": "code",
   "execution_count": 2,
   "id": "20a67f43-5749-409a-85ca-56f833351333",
   "metadata": {},
   "outputs": [],
   "source": [
    "df = pd.read_csv(r\"C:\\Users\\user\\Desktop\\Project\\files\\Textdata\\audio_features-copy1.csv\")"
   ]
  },
  {
   "cell_type": "code",
   "execution_count": 3,
   "id": "46211ed5-35e8-45b7-862a-b07247f7a161",
   "metadata": {},
   "outputs": [],
   "source": [
    "from sklearn.preprocessing import MinMaxScaler"
   ]
  },
  {
   "cell_type": "code",
   "execution_count": 4,
   "id": "01d1b4be-fe52-4f4b-9cb1-90c7df9b9f0e",
   "metadata": {},
   "outputs": [],
   "source": [
    "SMM = MinMaxScaler(feature_range=(0,1))"
   ]
  },
  {
   "cell_type": "code",
   "execution_count": 5,
   "id": "3f366cdd-d431-4306-8a07-46e9e659b76e",
   "metadata": {},
   "outputs": [],
   "source": [
    "df=SMM.fit_transform(df)"
   ]
  },
  {
   "cell_type": "code",
   "execution_count": 6,
   "id": "8ef7c055-d254-488f-9286-bf3c7c58599d",
   "metadata": {},
   "outputs": [],
   "source": [
    "columnnm=['mfcc_1','mfcc_2','mfcc_3','mfcc_4','mfcc_5','mfcc_6','mfcc_7','mfcc_8','mfcc_9','mfcc_10','mfcc_11','mfcc_12','mfcc_13','spectral_centroid','spectral_bandwidth','zero_crossing_rate','label']\n",
    "df = pd.DataFrame(df,columns=columnnm)"
   ]
  },
  {
   "cell_type": "code",
   "execution_count": 7,
   "id": "77eeba72-d8eb-4409-915b-7b6578fad9d1",
   "metadata": {},
   "outputs": [],
   "source": [
    "x_cols=['mfcc_1','mfcc_2','mfcc_3','mfcc_4','mfcc_5','mfcc_6','mfcc_7','mfcc_8','mfcc_9','mfcc_10','mfcc_11','mfcc_12','mfcc_13','spectral_centroid','spectral_bandwidth','zero_crossing_rate']\n",
    "X= df[x_cols]\n",
    "y_cols=['label']\n",
    "y= df[y_cols]"
   ]
  },
  {
   "cell_type": "code",
   "execution_count": 8,
   "id": "f934eefa-2981-4832-9401-37cd4617f716",
   "metadata": {},
   "outputs": [],
   "source": [
    "X_train, X_test, y_train, y_test = train_test_split(X,y,test_size=0.2)"
   ]
  },
  {
   "cell_type": "code",
   "execution_count": 25,
   "id": "2240da6e-abbd-4d6e-9d7c-90371aea6ed6",
   "metadata": {},
   "outputs": [
    {
     "name": "stderr",
     "output_type": "stream",
     "text": [
      "C:\\Users\\user\\AppData\\Local\\Programs\\Python\\Python312\\Lib\\site-packages\\keras\\src\\layers\\core\\input_layer.py:26: UserWarning: Argument `input_shape` is deprecated. Use `shape` instead.\n",
      "  warnings.warn(\n"
     ]
    }
   ],
   "source": [
    "model = models.Sequential()\n",
    "model.add(layers.InputLayer(input_shape=(16,)))\n",
    "\n",
    "# Reshape input to be suitable for convolution (like an image with 1 channel)\n",
    "model.add(layers.Reshape((4, 4, 1)))  # Reshape to (4, 4, 1) for CNN processing\n",
    "\n",
    "# 1st Convolutional Layer\n",
    "model.add(layers.Conv2D(32, kernel_size=(3, 3), activation='relu', padding='same'))\n",
    "model.add(layers.MaxPooling2D(pool_size=(2, 2), padding='same'))\n",
    "\n",
    "# 2nd Convolutional Layer\n",
    "model.add(layers.Conv2D(64, kernel_size=(3, 3), activation='relu', padding='same'))\n",
    "model.add(layers.MaxPooling2D(pool_size=(2, 2), padding='same'))\n",
    "\n",
    "# Flattening the output from the convolutional layers to pass into Dense layers\n",
    "model.add(layers.Flatten())\n",
    "\n",
    "# Fully Connected Layer\n",
    "model.add(layers.Dense(128, activation='relu'))\n",
    "\n",
    "# Adding Dropout to prevent overfitting\n",
    "model.add(layers.Dropout(0.2))\n",
    "\n",
    "# Output Layer for binary classification (scream or non-scream)\n",
    "model.add(layers.Dense(1, activation='sigmoid'))  # Keep sigmoid for binary output\n"
   ]
  },
  {
   "cell_type": "code",
   "execution_count": 26,
   "id": "8348fc11-7612-4ffa-b0cf-a9c32859f2cf",
   "metadata": {},
   "outputs": [
    {
     "name": "stdout",
     "output_type": "stream",
     "text": [
      "Epoch 1/20\n",
      "\u001b[1m83/83\u001b[0m \u001b[32m━━━━━━━━━━━━━━━━━━━━\u001b[0m\u001b[37m\u001b[0m \u001b[1m1s\u001b[0m 3ms/step - accuracy: 0.5408 - loss: 0.6829\n",
      "Epoch 2/20\n",
      "\u001b[1m83/83\u001b[0m \u001b[32m━━━━━━━━━━━━━━━━━━━━\u001b[0m\u001b[37m\u001b[0m \u001b[1m0s\u001b[0m 3ms/step - accuracy: 0.8204 - loss: 0.4965\n",
      "Epoch 3/20\n",
      "\u001b[1m83/83\u001b[0m \u001b[32m━━━━━━━━━━━━━━━━━━━━\u001b[0m\u001b[37m\u001b[0m \u001b[1m0s\u001b[0m 2ms/step - accuracy: 0.8359 - loss: 0.4065\n",
      "Epoch 4/20\n",
      "\u001b[1m83/83\u001b[0m \u001b[32m━━━━━━━━━━━━━━━━━━━━\u001b[0m\u001b[37m\u001b[0m \u001b[1m0s\u001b[0m 3ms/step - accuracy: 0.8403 - loss: 0.3948\n",
      "Epoch 5/20\n",
      "\u001b[1m83/83\u001b[0m \u001b[32m━━━━━━━━━━━━━━━━━━━━\u001b[0m\u001b[37m\u001b[0m \u001b[1m0s\u001b[0m 3ms/step - accuracy: 0.8441 - loss: 0.3660\n",
      "Epoch 6/20\n",
      "\u001b[1m83/83\u001b[0m \u001b[32m━━━━━━━━━━━━━━━━━━━━\u001b[0m\u001b[37m\u001b[0m \u001b[1m0s\u001b[0m 3ms/step - accuracy: 0.8791 - loss: 0.3216\n",
      "Epoch 7/20\n",
      "\u001b[1m83/83\u001b[0m \u001b[32m━━━━━━━━━━━━━━━━━━━━\u001b[0m\u001b[37m\u001b[0m \u001b[1m0s\u001b[0m 3ms/step - accuracy: 0.8701 - loss: 0.3272\n",
      "Epoch 8/20\n",
      "\u001b[1m83/83\u001b[0m \u001b[32m━━━━━━━━━━━━━━━━━━━━\u001b[0m\u001b[37m\u001b[0m \u001b[1m0s\u001b[0m 3ms/step - accuracy: 0.8828 - loss: 0.3064\n",
      "Epoch 9/20\n",
      "\u001b[1m83/83\u001b[0m \u001b[32m━━━━━━━━━━━━━━━━━━━━\u001b[0m\u001b[37m\u001b[0m \u001b[1m0s\u001b[0m 2ms/step - accuracy: 0.8821 - loss: 0.2936\n",
      "Epoch 10/20\n",
      "\u001b[1m83/83\u001b[0m \u001b[32m━━━━━━━━━━━━━━━━━━━━\u001b[0m\u001b[37m\u001b[0m \u001b[1m0s\u001b[0m 2ms/step - accuracy: 0.8947 - loss: 0.2632\n",
      "Epoch 11/20\n",
      "\u001b[1m83/83\u001b[0m \u001b[32m━━━━━━━━━━━━━━━━━━━━\u001b[0m\u001b[37m\u001b[0m \u001b[1m0s\u001b[0m 3ms/step - accuracy: 0.8987 - loss: 0.2577\n",
      "Epoch 12/20\n",
      "\u001b[1m83/83\u001b[0m \u001b[32m━━━━━━━━━━━━━━━━━━━━\u001b[0m\u001b[37m\u001b[0m \u001b[1m0s\u001b[0m 3ms/step - accuracy: 0.8775 - loss: 0.2841\n",
      "Epoch 13/20\n",
      "\u001b[1m83/83\u001b[0m \u001b[32m━━━━━━━━━━━━━━━━━━━━\u001b[0m\u001b[37m\u001b[0m \u001b[1m0s\u001b[0m 3ms/step - accuracy: 0.9077 - loss: 0.2401\n",
      "Epoch 14/20\n",
      "\u001b[1m83/83\u001b[0m \u001b[32m━━━━━━━━━━━━━━━━━━━━\u001b[0m\u001b[37m\u001b[0m \u001b[1m0s\u001b[0m 2ms/step - accuracy: 0.9059 - loss: 0.2476\n",
      "Epoch 15/20\n",
      "\u001b[1m83/83\u001b[0m \u001b[32m━━━━━━━━━━━━━━━━━━━━\u001b[0m\u001b[37m\u001b[0m \u001b[1m0s\u001b[0m 2ms/step - accuracy: 0.9114 - loss: 0.2383\n",
      "Epoch 16/20\n",
      "\u001b[1m83/83\u001b[0m \u001b[32m━━━━━━━━━━━━━━━━━━━━\u001b[0m\u001b[37m\u001b[0m \u001b[1m0s\u001b[0m 3ms/step - accuracy: 0.9118 - loss: 0.2310\n",
      "Epoch 17/20\n",
      "\u001b[1m83/83\u001b[0m \u001b[32m━━━━━━━━━━━━━━━━━━━━\u001b[0m\u001b[37m\u001b[0m \u001b[1m0s\u001b[0m 3ms/step - accuracy: 0.9115 - loss: 0.2186\n",
      "Epoch 18/20\n",
      "\u001b[1m83/83\u001b[0m \u001b[32m━━━━━━━━━━━━━━━━━━━━\u001b[0m\u001b[37m\u001b[0m \u001b[1m0s\u001b[0m 3ms/step - accuracy: 0.9128 - loss: 0.2265\n",
      "Epoch 19/20\n",
      "\u001b[1m83/83\u001b[0m \u001b[32m━━━━━━━━━━━━━━━━━━━━\u001b[0m\u001b[37m\u001b[0m \u001b[1m0s\u001b[0m 2ms/step - accuracy: 0.9012 - loss: 0.2318\n",
      "Epoch 20/20\n",
      "\u001b[1m83/83\u001b[0m \u001b[32m━━━━━━━━━━━━━━━━━━━━\u001b[0m\u001b[37m\u001b[0m \u001b[1m0s\u001b[0m 2ms/step - accuracy: 0.9213 - loss: 0.2087\n"
     ]
    },
    {
     "data": {
      "text/plain": [
       "<keras.src.callbacks.history.History at 0x29ff7029070>"
      ]
     },
     "execution_count": 26,
     "metadata": {},
     "output_type": "execute_result"
    }
   ],
   "source": [
    "model.compile(optimizer='Adam',loss='binary_crossentropy', \n",
    "              metrics=['accuracy'])\n",
    "model.fit(X_train,y_train,epochs=20)"
   ]
  },
  {
   "cell_type": "code",
   "execution_count": 27,
   "id": "e84ffd70-38f3-41a2-94f3-651a2121d825",
   "metadata": {},
   "outputs": [],
   "source": [
    "from sklearn.metrics import recall_score, precision_score, f1_score, accuracy_score"
   ]
  },
  {
   "cell_type": "code",
   "execution_count": 28,
   "id": "cb52670e-d494-4bec-89de-9e8f66dcce9a",
   "metadata": {},
   "outputs": [
    {
     "name": "stdout",
     "output_type": "stream",
     "text": [
      "\u001b[1m21/21\u001b[0m \u001b[32m━━━━━━━━━━━━━━━━━━━━\u001b[0m\u001b[37m\u001b[0m \u001b[1m0s\u001b[0m 3ms/step - accuracy: 0.8949 - loss: 0.2569 \n"
     ]
    },
    {
     "data": {
      "text/plain": [
       "[0.261945515871048, 0.8939393758773804]"
      ]
     },
     "execution_count": 28,
     "metadata": {},
     "output_type": "execute_result"
    }
   ],
   "source": [
    "model.evaluate(X_test,y_test)"
   ]
  },
  {
   "cell_type": "code",
   "execution_count": 29,
   "id": "89eafa6d-1b60-4b27-a224-8f237eb49485",
   "metadata": {},
   "outputs": [],
   "source": [
    "# import librosa\n",
    "# import pandas as pd\n",
    "# import numpy as np\n",
    "# import os"
   ]
  },
  {
   "cell_type": "code",
   "execution_count": 30,
   "id": "b0a863bd-1a84-4547-9c4c-8525b84f8d1c",
   "metadata": {},
   "outputs": [],
   "source": [
    "# def extract_features(audio_file):\n",
    "    \n",
    "#     y, sr = librosa.load(audio_file, sr=None)\n",
    "    \n",
    "    \n",
    "#     mfccs = librosa.feature.mfcc(y=y, sr=sr, n_mfcc=13)\n",
    "#     mfccs_mean = np.mean(mfccs.T, axis=0)\n",
    "    \n",
    "    \n",
    "#     spectral_centroid = np.mean(librosa.feature.spectral_centroid(y=y, sr=sr))\n",
    "    \n",
    "    \n",
    "#     spectral_bandwidth = np.mean(librosa.feature.spectral_bandwidth(y=y, sr=sr))\n",
    "    \n",
    "    \n",
    "#     zero_crossing_rate = np.mean(librosa.feature.zero_crossing_rate(y=y))\n",
    "#     ans = (\n",
    "#         mfccs_mean[0],\n",
    "#         mfccs_mean[1],\n",
    "#         mfccs_mean[2],\n",
    "#         mfccs_mean[3],\n",
    "#         mfccs_mean[4],\n",
    "#         mfccs_mean[5],\n",
    "#         mfccs_mean[6],\n",
    "#         mfccs_mean[7],\n",
    "#         mfccs_mean[8],\n",
    "#         mfccs_mean[9],\n",
    "#         mfccs_mean[10],\n",
    "#         mfccs_mean[11],\n",
    "#         mfccs_mean[12],\n",
    "#         spectral_centroid,\n",
    "#         spectral_bandwidth,\n",
    "#         zero_crossing_rate\n",
    "#     )\n",
    "    \n",
    "\n",
    "#     return ans"
   ]
  },
  {
   "cell_type": "code",
   "execution_count": 31,
   "id": "b94da432-f5d0-4206-914b-91db3cfeead3",
   "metadata": {},
   "outputs": [],
   "source": [
    "# cols=['mfcc_1','mfcc_2','mfcc_3','mfcc_4','mfcc_5','mfcc_6','mfcc_7','mfcc_8','mfcc_9','mfcc_10','mfcc_11','mfcc_12','mfcc_13','spectral_centroid','spectral_bandwidth','zero_crossing_rate']\n",
    "# def pred(aud):    \n",
    "#     audio= aud\n",
    "#     features = extract_features(audio)\n",
    "#     feature=pd.DataFrame(features)\n",
    "#     print(feature)\n",
    "#     feature=SMM.fit_transform(feature)\n",
    "#     feature=pd.DataFrame(feature)\n",
    "#     feature=feature.T\n",
    "#     feature.columns=['mfcc_1','mfcc_2','mfcc_3','mfcc_4','mfcc_5','mfcc_6','mfcc_7','mfcc_8','mfcc_9','mfcc_10','mfcc_11','mfcc_12','mfcc_13','spectral_centroid','spectral_bandwidth','zero_crossing_rate']\n",
    "#     predis=model.predict(feature)\n",
    "#     ogpredis=SMM.inverse_transform(predis)\n",
    "#     if (ogpredis>0.5):\n",
    "#         print(\"Screaming\")\n",
    "#     else:\n",
    "#         print(\"Non_screaming\")\n",
    "#     print(ogpredis)\n",
    "#     print(predis)"
   ]
  },
  {
   "cell_type": "code",
   "execution_count": 32,
   "id": "e223eabe-4430-48b5-b6e1-379df6970e11",
   "metadata": {},
   "outputs": [],
   "source": [
    "import librosa\n",
    "import pandas as pd\n",
    "import numpy as np\n",
    "import os\n",
    "def extract_features(audio_file):\n",
    "    # Load the audio file\n",
    "    y, sr = librosa.load(audio_file, sr=None)\n",
    "    \n",
    "    # Extract MFCC (first 13 coefficients)\n",
    "    mfccs = librosa.feature.mfcc(y=y, sr=sr, n_mfcc=13)\n",
    "    mfccs_mean = np.mean(mfccs.T, axis=0)\n",
    "    \n",
    "    # Extract Spectral Centroid\n",
    "    spectral_centroid = np.mean(librosa.feature.spectral_centroid(y=y, sr=sr))\n",
    "    \n",
    "    # Extract Spectral Bandwidth\n",
    "    spectral_bandwidth = np.mean(librosa.feature.spectral_bandwidth(y=y, sr=sr))\n",
    "    \n",
    "    # Extract Zero-Crossing Rate\n",
    "    zero_crossing_rate = np.mean(librosa.feature.zero_crossing_rate(y=y))\n",
    "    ans = [\n",
    "        mfccs_mean[0],\n",
    "        mfccs_mean[1],\n",
    "        mfccs_mean[2],\n",
    "        mfccs_mean[3],\n",
    "        mfccs_mean[4],\n",
    "        mfccs_mean[5],\n",
    "        mfccs_mean[6],\n",
    "        mfccs_mean[7],\n",
    "        mfccs_mean[8],\n",
    "        mfccs_mean[9],\n",
    "        mfccs_mean[10],\n",
    "        mfccs_mean[11],\n",
    "        mfccs_mean[12],\n",
    "        spectral_centroid,\n",
    "        spectral_bandwidth,\n",
    "        zero_crossing_rate\n",
    "    ]\n",
    "    \n",
    "    # Return the features as a dictionary\n",
    "    return ans\n",
    "cols=['mfcc_1','mfcc_2','mfcc_3','mfcc_4','mfcc_5','mfcc_6','mfcc_7','mfcc_8','mfcc_9','mfcc_10','mfcc_11','mfcc_12','mfcc_13','spectral_centroid','spectral_bandwidth','zero_crossing_rate']\n",
    "def pred(aud):    \n",
    "    audio= aud\n",
    "    features = extract_features(audio)\n",
    "    feature=np.array(features).reshape(1,16)\n",
    "    print(feature)\n",
    "    feature=pd.DataFrame(feature,columns=x_cols)\n",
    "    print(feature)\n",
    "    feature=SMM.fit_transform(feature)\n",
    "    feature=pd.DataFrame(feature)\n",
    "    print(type(feature))\n",
    "    #feature.columns=['mfcc_1','mfcc_2','mfcc_3','mfcc_4','mfcc_5','mfcc_6','mfcc_7','mfcc_8','mfcc_9','mfcc_10','mfcc_11','mfcc_12','mfcc_13','spectral_centroid','spectral_bandwidth','zero_crossing_rate']\n",
    "    predis=model.predict(feature)\n",
    "    #ogpredis=SMM.inverse_transform(predis)\n",
    "    if (predis>0.5):\n",
    "        print(\"Screaming\")\n",
    "    else:\n",
    "        print(\"Non_screaming\")\n",
    "    #print(ogpredis)\n",
    "    print(predis)"
   ]
  },
  {
   "cell_type": "code",
   "execution_count": 34,
   "id": "2d67fee5-4b46-4b39-944c-c5ecd25a9ce6",
   "metadata": {},
   "outputs": [
    {
     "name": "stdout",
     "output_type": "stream",
     "text": [
      "[[-2.02416000e+02  2.10127964e+01 -1.50400782e+00  3.09012108e+01\n",
      "  -8.70230579e+00  2.05636845e+01  6.69435358e+00  1.69048774e+00\n",
      "  -4.00769800e-01  5.08654785e+00 -8.24943256e+00  1.48513250e+01\n",
      "  -1.36669350e+01  4.82022553e+03  2.99777143e+03  3.78232408e-01]]\n",
      "    mfcc_1     mfcc_2    mfcc_3     mfcc_4    mfcc_5     mfcc_6    mfcc_7  \\\n",
      "0 -202.416  21.012796 -1.504008  30.901211 -8.702306  20.563684  6.694354   \n",
      "\n",
      "     mfcc_8   mfcc_9   mfcc_10   mfcc_11    mfcc_12    mfcc_13  \\\n",
      "0  1.690488 -0.40077  5.086548 -8.249433  14.851325 -13.666935   \n",
      "\n",
      "   spectral_centroid  spectral_bandwidth  zero_crossing_rate  \n",
      "0        4820.225528         2997.771431            0.378232  \n",
      "<class 'pandas.core.frame.DataFrame'>\n",
      "\u001b[1m1/1\u001b[0m \u001b[32m━━━━━━━━━━━━━━━━━━━━\u001b[0m\u001b[37m\u001b[0m \u001b[1m0s\u001b[0m 30ms/step\n",
      "Screaming\n",
      "[[0.97990924]]\n"
     ]
    }
   ],
   "source": [
    "ipt=r\"C:\\Users\\user\\Desktop\\Project\\files\\testaudio\\4.wav\"\n",
    "pred(ipt)\n"
   ]
  },
  {
   "cell_type": "code",
   "execution_count": null,
   "id": "b7935616-d6df-47f0-8969-9115b0404bf0",
   "metadata": {},
   "outputs": [],
   "source": []
  }
 ],
 "metadata": {
  "kernelspec": {
   "display_name": "Python 3 (ipykernel)",
   "language": "python",
   "name": "python3"
  },
  "language_info": {
   "codemirror_mode": {
    "name": "ipython",
    "version": 3
   },
   "file_extension": ".py",
   "mimetype": "text/x-python",
   "name": "python",
   "nbconvert_exporter": "python",
   "pygments_lexer": "ipython3",
   "version": "3.12.5"
  }
 },
 "nbformat": 4,
 "nbformat_minor": 5
}

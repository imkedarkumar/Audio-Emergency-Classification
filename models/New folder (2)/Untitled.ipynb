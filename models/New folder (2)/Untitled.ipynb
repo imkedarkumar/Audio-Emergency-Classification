{
 "cells": [
  {
   "cell_type": "code",
   "execution_count": 14,
   "id": "a9eb31dd-7f3f-416d-bfce-5918a12eed70",
   "metadata": {},
   "outputs": [
    {
     "ename": "AttributeError",
     "evalue": "'list' object has no attribute 'values'",
     "output_type": "error",
     "traceback": [
      "\u001b[1;31m---------------------------------------------------------------------------\u001b[0m",
      "\u001b[1;31mAttributeError\u001b[0m                            Traceback (most recent call last)",
      "Cell \u001b[1;32mIn[14], line 45\u001b[0m\n\u001b[0;32m     43\u001b[0m features \u001b[38;5;241m=\u001b[39m extract_features(audio)\n\u001b[0;32m     44\u001b[0m data\u001b[38;5;241m.\u001b[39mappend(features)\n\u001b[1;32m---> 45\u001b[0m \u001b[43mdata\u001b[49m\u001b[38;5;241;43m.\u001b[39;49m\u001b[43mvalues\u001b[49m\n",
      "\u001b[1;31mAttributeError\u001b[0m: 'list' object has no attribute 'values'"
     ]
    }
   ],
   "source": [
    "import librosa\n",
    "import pandas as pd\n",
    "import numpy as np\n",
    "import os\n",
    "def extract_features(audio_file):\n",
    "    # Load the audio file\n",
    "    y, sr = librosa.load(audio_file, sr=None)\n",
    "    \n",
    "    # Extract MFCC (first 13 coefficients)\n",
    "    mfccs = librosa.feature.mfcc(y=y, sr=sr, n_mfcc=13)\n",
    "    mfccs_mean = np.mean(mfccs.T, axis=0)\n",
    "    \n",
    "    # Extract Spectral Centroid\n",
    "    spectral_centroid = np.mean(librosa.feature.spectral_centroid(y=y, sr=sr))\n",
    "    \n",
    "    # Extract Spectral Bandwidth\n",
    "    spectral_bandwidth = np.mean(librosa.feature.spectral_bandwidth(y=y, sr=sr))\n",
    "    \n",
    "    # Extract Zero-Crossing Rate\n",
    "    zero_crossing_rate = np.mean(librosa.feature.zero_crossing_rate(y=y))\n",
    "    \n",
    "    # Return the features as a dictionary\n",
    "    return {\n",
    "        'mfcc_1': mfccs_mean[0],\n",
    "        'mfcc_2': mfccs_mean[1],\n",
    "        'mfcc_3': mfccs_mean[2],\n",
    "        'mfcc_4': mfccs_mean[3],\n",
    "        'mfcc_5': mfccs_mean[4],\n",
    "        'mfcc_6': mfccs_mean[5],\n",
    "        'mfcc_7': mfccs_mean[6],\n",
    "        'mfcc_8': mfccs_mean[7],\n",
    "        'mfcc_9': mfccs_mean[8],\n",
    "        'mfcc_10': mfccs_mean[9],\n",
    "        'mfcc_11': mfccs_mean[10],\n",
    "        'mfcc_12': mfccs_mean[11],\n",
    "        'mfcc_13': mfccs_mean[12],\n",
    "        'spectral_centroid': spectral_centroid,\n",
    "        'spectral_bandwidth': spectral_bandwidth,\n",
    "        'zero_crossing_rate': zero_crossing_rate\n",
    "    }\n",
    "data = []\n",
    "audio= r\"C:\\Users\\user\\Desktop\\Project\\files\\testaudio\\2.wav\"\n",
    "features = extract_features(audio)\n",
    "data.append(features)"
   ]
  },
  {
   "cell_type": "code",
   "execution_count": null,
   "id": "87416e42-29c1-48e2-99ff-f8e33d66aabc",
   "metadata": {},
   "outputs": [],
   "source": []
  }
 ],
 "metadata": {
  "kernelspec": {
   "display_name": "Python 3 (ipykernel)",
   "language": "python",
   "name": "python3"
  },
  "language_info": {
   "codemirror_mode": {
    "name": "ipython",
    "version": 3
   },
   "file_extension": ".py",
   "mimetype": "text/x-python",
   "name": "python",
   "nbconvert_exporter": "python",
   "pygments_lexer": "ipython3",
   "version": "3.12.5"
  }
 },
 "nbformat": 4,
 "nbformat_minor": 5
}

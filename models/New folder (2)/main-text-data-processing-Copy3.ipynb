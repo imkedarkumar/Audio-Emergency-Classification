{
 "cells": [
  {
   "cell_type": "code",
   "execution_count": 1,
   "id": "1b91a03d-61a4-4191-a0a2-f11b35d9f88c",
   "metadata": {},
   "outputs": [],
   "source": [
    "import pandas as pd\n",
    "import numpy as np\n",
    "import tensorflow as tf\n",
    "import sklearn\n",
    "from sklearn.model_selection import train_test_split"
   ]
  },
  {
   "cell_type": "code",
   "execution_count": 2,
   "id": "20a67f43-5749-409a-85ca-56f833351333",
   "metadata": {},
   "outputs": [],
   "source": [
    "df = pd.read_csv(r\"C:\\Users\\user\\Desktop\\Project\\files\\Textdata\\audio_features - Copy1.csv\")"
   ]
  },
  {
   "cell_type": "code",
   "execution_count": 3,
   "id": "630531ad-1ab7-447a-bc1c-5c891ca6c879",
   "metadata": {},
   "outputs": [
    {
     "data": {
      "text/html": [
       "<div>\n",
       "<style scoped>\n",
       "    .dataframe tbody tr th:only-of-type {\n",
       "        vertical-align: middle;\n",
       "    }\n",
       "\n",
       "    .dataframe tbody tr th {\n",
       "        vertical-align: top;\n",
       "    }\n",
       "\n",
       "    .dataframe thead th {\n",
       "        text-align: right;\n",
       "    }\n",
       "</style>\n",
       "<table border=\"1\" class=\"dataframe\">\n",
       "  <thead>\n",
       "    <tr style=\"text-align: right;\">\n",
       "      <th></th>\n",
       "      <th>mfcc_1</th>\n",
       "      <th>mfcc_2</th>\n",
       "      <th>mfcc_3</th>\n",
       "      <th>mfcc_4</th>\n",
       "      <th>mfcc_5</th>\n",
       "      <th>mfcc_6</th>\n",
       "      <th>mfcc_7</th>\n",
       "      <th>mfcc_8</th>\n",
       "      <th>mfcc_9</th>\n",
       "      <th>mfcc_10</th>\n",
       "      <th>mfcc_11</th>\n",
       "      <th>mfcc_12</th>\n",
       "      <th>mfcc_13</th>\n",
       "      <th>spectral_centroid</th>\n",
       "      <th>spectral_bandwidth</th>\n",
       "      <th>zero_crossing_rate</th>\n",
       "      <th>label</th>\n",
       "    </tr>\n",
       "  </thead>\n",
       "  <tbody>\n",
       "    <tr>\n",
       "      <th>0</th>\n",
       "      <td>-281.97240</td>\n",
       "      <td>-27.002085</td>\n",
       "      <td>-48.788036</td>\n",
       "      <td>25.448553</td>\n",
       "      <td>21.694800</td>\n",
       "      <td>13.263804</td>\n",
       "      <td>-14.020556</td>\n",
       "      <td>7.747015</td>\n",
       "      <td>2.940870</td>\n",
       "      <td>-6.776509</td>\n",
       "      <td>-11.882449</td>\n",
       "      <td>13.568652</td>\n",
       "      <td>-10.740694</td>\n",
       "      <td>2919.103036</td>\n",
       "      <td>1632.128306</td>\n",
       "      <td>0.230366</td>\n",
       "      <td>1</td>\n",
       "    </tr>\n",
       "    <tr>\n",
       "      <th>1</th>\n",
       "      <td>-386.16647</td>\n",
       "      <td>55.684887</td>\n",
       "      <td>-4.840861</td>\n",
       "      <td>19.661910</td>\n",
       "      <td>13.279716</td>\n",
       "      <td>11.665585</td>\n",
       "      <td>-4.929646</td>\n",
       "      <td>-0.588488</td>\n",
       "      <td>-1.708870</td>\n",
       "      <td>-4.072778</td>\n",
       "      <td>-5.881234</td>\n",
       "      <td>6.675362</td>\n",
       "      <td>-3.699013</td>\n",
       "      <td>1742.769122</td>\n",
       "      <td>1494.882665</td>\n",
       "      <td>0.124316</td>\n",
       "      <td>1</td>\n",
       "    </tr>\n",
       "    <tr>\n",
       "      <th>2</th>\n",
       "      <td>-251.50034</td>\n",
       "      <td>-32.128223</td>\n",
       "      <td>-104.347480</td>\n",
       "      <td>-2.496558</td>\n",
       "      <td>34.573790</td>\n",
       "      <td>34.055550</td>\n",
       "      <td>-24.054390</td>\n",
       "      <td>15.440025</td>\n",
       "      <td>1.407326</td>\n",
       "      <td>-0.697393</td>\n",
       "      <td>-9.792743</td>\n",
       "      <td>2.449520</td>\n",
       "      <td>2.464021</td>\n",
       "      <td>2278.370773</td>\n",
       "      <td>1331.920806</td>\n",
       "      <td>0.214245</td>\n",
       "      <td>1</td>\n",
       "    </tr>\n",
       "    <tr>\n",
       "      <th>3</th>\n",
       "      <td>-220.43900</td>\n",
       "      <td>107.304870</td>\n",
       "      <td>-32.439606</td>\n",
       "      <td>11.230356</td>\n",
       "      <td>-7.062341</td>\n",
       "      <td>20.047394</td>\n",
       "      <td>3.320949</td>\n",
       "      <td>1.145091</td>\n",
       "      <td>-2.769462</td>\n",
       "      <td>5.505599</td>\n",
       "      <td>-8.787787</td>\n",
       "      <td>-3.005107</td>\n",
       "      <td>-2.713224</td>\n",
       "      <td>1349.370216</td>\n",
       "      <td>1365.374170</td>\n",
       "      <td>0.094285</td>\n",
       "      <td>1</td>\n",
       "    </tr>\n",
       "    <tr>\n",
       "      <th>4</th>\n",
       "      <td>-250.40857</td>\n",
       "      <td>137.835950</td>\n",
       "      <td>-42.434673</td>\n",
       "      <td>-0.093357</td>\n",
       "      <td>-1.588117</td>\n",
       "      <td>3.683796</td>\n",
       "      <td>5.298686</td>\n",
       "      <td>-14.840858</td>\n",
       "      <td>5.707088</td>\n",
       "      <td>7.519821</td>\n",
       "      <td>-11.900642</td>\n",
       "      <td>-8.919777</td>\n",
       "      <td>2.564292</td>\n",
       "      <td>1097.990884</td>\n",
       "      <td>1097.001430</td>\n",
       "      <td>0.095469</td>\n",
       "      <td>1</td>\n",
       "    </tr>\n",
       "  </tbody>\n",
       "</table>\n",
       "</div>"
      ],
      "text/plain": [
       "      mfcc_1      mfcc_2      mfcc_3     mfcc_4     mfcc_5     mfcc_6  \\\n",
       "0 -281.97240  -27.002085  -48.788036  25.448553  21.694800  13.263804   \n",
       "1 -386.16647   55.684887   -4.840861  19.661910  13.279716  11.665585   \n",
       "2 -251.50034  -32.128223 -104.347480  -2.496558  34.573790  34.055550   \n",
       "3 -220.43900  107.304870  -32.439606  11.230356  -7.062341  20.047394   \n",
       "4 -250.40857  137.835950  -42.434673  -0.093357  -1.588117   3.683796   \n",
       "\n",
       "      mfcc_7     mfcc_8    mfcc_9   mfcc_10    mfcc_11    mfcc_12    mfcc_13  \\\n",
       "0 -14.020556   7.747015  2.940870 -6.776509 -11.882449  13.568652 -10.740694   \n",
       "1  -4.929646  -0.588488 -1.708870 -4.072778  -5.881234   6.675362  -3.699013   \n",
       "2 -24.054390  15.440025  1.407326 -0.697393  -9.792743   2.449520   2.464021   \n",
       "3   3.320949   1.145091 -2.769462  5.505599  -8.787787  -3.005107  -2.713224   \n",
       "4   5.298686 -14.840858  5.707088  7.519821 -11.900642  -8.919777   2.564292   \n",
       "\n",
       "   spectral_centroid  spectral_bandwidth  zero_crossing_rate  label  \n",
       "0        2919.103036         1632.128306            0.230366      1  \n",
       "1        1742.769122         1494.882665            0.124316      1  \n",
       "2        2278.370773         1331.920806            0.214245      1  \n",
       "3        1349.370216         1365.374170            0.094285      1  \n",
       "4        1097.990884         1097.001430            0.095469      1  "
      ]
     },
     "execution_count": 3,
     "metadata": {},
     "output_type": "execute_result"
    }
   ],
   "source": [
    "df.head(5)"
   ]
  },
  {
   "cell_type": "code",
   "execution_count": 6,
   "id": "46211ed5-35e8-45b7-862a-b07247f7a161",
   "metadata": {},
   "outputs": [],
   "source": [
    "from sklearn.preprocessing import MinMaxScaler"
   ]
  },
  {
   "cell_type": "code",
   "execution_count": 7,
   "id": "01d1b4be-fe52-4f4b-9cb1-90c7df9b9f0e",
   "metadata": {},
   "outputs": [],
   "source": [
    "SMM = MinMaxScaler(feature_range=(0,1))"
   ]
  },
  {
   "cell_type": "code",
   "execution_count": 8,
   "id": "3f366cdd-d431-4306-8a07-46e9e659b76e",
   "metadata": {},
   "outputs": [],
   "source": [
    "df=SMM.fit_transform(df)"
   ]
  },
  {
   "cell_type": "code",
   "execution_count": 14,
   "id": "8ef7c055-d254-488f-9286-bf3c7c58599d",
   "metadata": {},
   "outputs": [],
   "source": [
    "columnnm=['mfcc_1','mfcc_2','mfcc_3','mfcc_4','mfcc_5','mfcc_6','mfcc_7','mfcc_8','mfcc_9','mfcc_10','mfcc_11','mfcc_12','mfcc_13','spectral_centroid','spectral_bandwidth','zero_crossing_rate','label']\n",
    "df = pd.DataFrame(df,columns=columnnm)"
   ]
  },
  {
   "cell_type": "code",
   "execution_count": 38,
   "id": "77eeba72-d8eb-4409-915b-7b6578fad9d1",
   "metadata": {},
   "outputs": [],
   "source": [
    "x_cols=['mfcc_1','mfcc_2','mfcc_3','mfcc_4','mfcc_5','mfcc_6','mfcc_7','mfcc_8','mfcc_9','mfcc_10','mfcc_11','mfcc_12','mfcc_13','spectral_centroid','spectral_bandwidth','zero_crossing_rate']\n",
    "X= df[x_cols]\n",
    "y_cols=['label']\n",
    "y= df[y_cols]"
   ]
  },
  {
   "cell_type": "code",
   "execution_count": 39,
   "id": "f934eefa-2981-4832-9401-37cd4617f716",
   "metadata": {},
   "outputs": [],
   "source": [
    "X_train, X_test, y_train, y_test = train_test_split(X,y,test_size=0.2)"
   ]
  },
  {
   "cell_type": "code",
   "execution_count": null,
   "id": "2240da6e-abbd-4d6e-9d7c-90371aea6ed6",
   "metadata": {},
   "outputs": [],
   "source": []
  }
 ],
 "metadata": {
  "kernelspec": {
   "display_name": "Python 3 (ipykernel)",
   "language": "python",
   "name": "python3"
  },
  "language_info": {
   "codemirror_mode": {
    "name": "ipython",
    "version": 3
   },
   "file_extension": ".py",
   "mimetype": "text/x-python",
   "name": "python",
   "nbconvert_exporter": "python",
   "pygments_lexer": "ipython3",
   "version": "3.12.5"
  }
 },
 "nbformat": 4,
 "nbformat_minor": 5
}

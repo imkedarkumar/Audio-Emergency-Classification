{
 "cells": [
  {
   "cell_type": "code",
   "execution_count": 1,
   "id": "ca909577-7458-4b61-b257-eb1dba8956e4",
   "metadata": {},
   "outputs": [],
   "source": [
    "import os\n",
    "import numpy as np\n",
    "import pandas as pd\n",
    "import tensorflow as tf\n",
    "import librosa\n",
    "from sklearn.model_selection import train_test_split\n",
    "from sklearn.preprocessing import LabelEncoder\n",
    "from tensorflow.keras.models import Sequential\n",
    "from tensorflow.keras.layers import Conv2D, MaxPooling2D, Flatten, Dense, Dropout\n",
    "from tensorflow.keras.utils import to_categorical"
   ]
  },
  {
   "cell_type": "code",
   "execution_count": 2,
   "id": "8ba74398-44ed-4722-a3b5-5151b93e0fef",
   "metadata": {},
   "outputs": [],
   "source": [
    "scream_dir = r\"C:\\Users\\user\\Desktop\\Project\\files\\scream\"\n",
    "nonscream_dir = r\"C:\\Users\\user\\Desktop\\Project\\files\\nonscream\""
   ]
  },
  {
   "cell_type": "code",
   "execution_count": 3,
   "id": "69b63b14-f7b5-4a4d-804d-83a498a9ba04",
   "metadata": {},
   "outputs": [],
   "source": [
    "def extract_mfcc(audio_path, max_len=128):\n",
    "    y, sr = librosa.load(audio_path, sr=None)\n",
    "    mfcc = librosa.feature.mfcc(y=y, sr=sr, n_mfcc=13)\n",
    "    \n",
    "    # Pad or truncate to fixed length\n",
    "    if mfcc.shape[1] < max_len:\n",
    "        pad_width = max_len - mfcc.shape[1]\n",
    "        mfcc = np.pad(mfcc, pad_width=((0, 0), (0, pad_width)), mode='constant')\n",
    "    else:\n",
    "        mfcc = mfcc[:, :max_len]\n",
    "    \n",
    "    return mfcc\n",
    "\n",
    "# Helper function to load and process audio data\n",
    "def load_data():\n",
    "    data = []\n",
    "    labels = []\n",
    "\n",
    "    # Process scream audio files\n",
    "    for filename in os.listdir(scream_dir):\n",
    "        if filename.endswith(\".wav\"):\n",
    "            mfcc = extract_mfcc(os.path.join(scream_dir, filename))\n",
    "            data.append(mfcc)\n",
    "            labels.append(1)  # 1 for scream\n",
    "\n",
    "    # Process non-scream audio files\n",
    "    for filename in os.listdir(nonscream_dir):\n",
    "        if filename.endswith(\".wav\"):\n",
    "            mfcc = extract_mfcc(os.path.join(nonscream_dir, filename))\n",
    "            data.append(mfcc)\n",
    "            labels.append(0)  # 0 for non-scream\n",
    "\n",
    "    # Convert to NumPy arrays\n",
    "    data = np.array(data)\n",
    "    labels = np.array(labels)\n",
    "\n",
    "    # Add channel dimension (needed for CNN input)\n",
    "    data = data[..., np.newaxis]  # Shape becomes (samples, 13, 128, 1)\n",
    "    \n",
    "    return data, labels"
   ]
  },
  {
   "cell_type": "code",
   "execution_count": 5,
   "id": "a39eb6b0-0f61-4664-bcd5-ec30a109ed6b",
   "metadata": {},
   "outputs": [],
   "source": [
    "# Load and split the dataset\n",
    "data, labels = load_data()\n",
    "\n",
    "# Encode labels and split data\n",
    "X_train, X_test, y_train, y_test = train_test_split(data, labels, test_size=0.2, random_state=42)"
   ]
  },
  {
   "cell_type": "code",
   "execution_count": 6,
   "id": "d2be1e8d-842d-4843-8dbc-7da34b7210c4",
   "metadata": {},
   "outputs": [
    {
     "name": "stderr",
     "output_type": "stream",
     "text": [
      "C:\\Users\\user\\AppData\\Local\\Programs\\Python\\Python312\\Lib\\site-packages\\keras\\src\\layers\\convolutional\\base_conv.py:107: UserWarning: Do not pass an `input_shape`/`input_dim` argument to a layer. When using Sequential models, prefer using an `Input(shape)` object as the first layer in the model instead.\n",
      "  super().__init__(activity_regularizer=activity_regularizer, **kwargs)\n"
     ]
    }
   ],
   "source": [
    "# Build the CNN model\n",
    "model = Sequential([\n",
    "    Conv2D(32, kernel_size=(3, 3), activation='relu', input_shape=(13, 128, 1)),\n",
    "    MaxPooling2D(pool_size=(2, 2)),\n",
    "    Conv2D(64, kernel_size=(3, 3), activation='relu'),\n",
    "    MaxPooling2D(pool_size=(2, 2)),\n",
    "    Flatten(),\n",
    "    Dense(128, activation='relu'),\n",
    "    Dropout(0.5),\n",
    "    Dense(1, activation='sigmoid')\n",
    "])\n",
    "\n",
    "# Function to compile the model (customize as per requirement)\n",
    "def compile_model():\n",
    "    model.compile(optimizer='adam', loss='binary_crossentropy', metrics=['accuracy'])"
   ]
  },
  {
   "cell_type": "code",
   "execution_count": 7,
   "id": "d7c53d53-1bef-4fae-a2e0-038b7d7a4484",
   "metadata": {},
   "outputs": [],
   "source": [
    "compile_model()"
   ]
  },
  {
   "cell_type": "code",
   "execution_count": 8,
   "id": "52cf8b6d-8df0-406d-b726-a8082b1bc340",
   "metadata": {},
   "outputs": [
    {
     "name": "stdout",
     "output_type": "stream",
     "text": [
      "Epoch 1/20\n",
      "\u001b[1m83/83\u001b[0m \u001b[32m━━━━━━━━━━━━━━━━━━━━\u001b[0m\u001b[37m\u001b[0m \u001b[1m5s\u001b[0m 24ms/step - accuracy: 0.7106 - loss: 4.5595 - val_accuracy: 0.9015 - val_loss: 0.2486\n",
      "Epoch 2/20\n",
      "\u001b[1m83/83\u001b[0m \u001b[32m━━━━━━━━━━━━━━━━━━━━\u001b[0m\u001b[37m\u001b[0m \u001b[1m2s\u001b[0m 19ms/step - accuracy: 0.8913 - loss: 0.2813 - val_accuracy: 0.9182 - val_loss: 0.1959\n",
      "Epoch 3/20\n",
      "\u001b[1m83/83\u001b[0m \u001b[32m━━━━━━━━━━━━━━━━━━━━\u001b[0m\u001b[37m\u001b[0m \u001b[1m2s\u001b[0m 22ms/step - accuracy: 0.9275 - loss: 0.2124 - val_accuracy: 0.9212 - val_loss: 0.1981\n",
      "Epoch 4/20\n",
      "\u001b[1m83/83\u001b[0m \u001b[32m━━━━━━━━━━━━━━━━━━━━\u001b[0m\u001b[37m\u001b[0m \u001b[1m2s\u001b[0m 24ms/step - accuracy: 0.9423 - loss: 0.1581 - val_accuracy: 0.9227 - val_loss: 0.2015\n",
      "Epoch 5/20\n",
      "\u001b[1m83/83\u001b[0m \u001b[32m━━━━━━━━━━━━━━━━━━━━\u001b[0m\u001b[37m\u001b[0m \u001b[1m2s\u001b[0m 20ms/step - accuracy: 0.9497 - loss: 0.1373 - val_accuracy: 0.9303 - val_loss: 0.2005\n",
      "Epoch 6/20\n",
      "\u001b[1m83/83\u001b[0m \u001b[32m━━━━━━━━━━━━━━━━━━━━\u001b[0m\u001b[37m\u001b[0m \u001b[1m2s\u001b[0m 23ms/step - accuracy: 0.9576 - loss: 0.1206 - val_accuracy: 0.9242 - val_loss: 0.2144\n",
      "Epoch 7/20\n",
      "\u001b[1m83/83\u001b[0m \u001b[32m━━━━━━━━━━━━━━━━━━━━\u001b[0m\u001b[37m\u001b[0m \u001b[1m2s\u001b[0m 22ms/step - accuracy: 0.9536 - loss: 0.1289 - val_accuracy: 0.9227 - val_loss: 0.2207\n",
      "Epoch 8/20\n",
      "\u001b[1m83/83\u001b[0m \u001b[32m━━━━━━━━━━━━━━━━━━━━\u001b[0m\u001b[37m\u001b[0m \u001b[1m2s\u001b[0m 24ms/step - accuracy: 0.9540 - loss: 0.1100 - val_accuracy: 0.9152 - val_loss: 0.2726\n",
      "Epoch 9/20\n",
      "\u001b[1m83/83\u001b[0m \u001b[32m━━━━━━━━━━━━━━━━━━━━\u001b[0m\u001b[37m\u001b[0m \u001b[1m2s\u001b[0m 23ms/step - accuracy: 0.9625 - loss: 0.0989 - val_accuracy: 0.9242 - val_loss: 0.2098\n",
      "Epoch 10/20\n",
      "\u001b[1m83/83\u001b[0m \u001b[32m━━━━━━━━━━━━━━━━━━━━\u001b[0m\u001b[37m\u001b[0m \u001b[1m2s\u001b[0m 25ms/step - accuracy: 0.9738 - loss: 0.0783 - val_accuracy: 0.9242 - val_loss: 0.1947\n",
      "Epoch 11/20\n",
      "\u001b[1m83/83\u001b[0m \u001b[32m━━━━━━━━━━━━━━━━━━━━\u001b[0m\u001b[37m\u001b[0m \u001b[1m2s\u001b[0m 24ms/step - accuracy: 0.9647 - loss: 0.0923 - val_accuracy: 0.9333 - val_loss: 0.2209\n",
      "Epoch 12/20\n",
      "\u001b[1m83/83\u001b[0m \u001b[32m━━━━━━━━━━━━━━━━━━━━\u001b[0m\u001b[37m\u001b[0m \u001b[1m2s\u001b[0m 28ms/step - accuracy: 0.9772 - loss: 0.0712 - val_accuracy: 0.9227 - val_loss: 0.2287\n",
      "Epoch 13/20\n",
      "\u001b[1m83/83\u001b[0m \u001b[32m━━━━━━━━━━━━━━━━━━━━\u001b[0m\u001b[37m\u001b[0m \u001b[1m2s\u001b[0m 19ms/step - accuracy: 0.9797 - loss: 0.0656 - val_accuracy: 0.9303 - val_loss: 0.2263\n",
      "Epoch 14/20\n",
      "\u001b[1m83/83\u001b[0m \u001b[32m━━━━━━━━━━━━━━━━━━━━\u001b[0m\u001b[37m\u001b[0m \u001b[1m2s\u001b[0m 24ms/step - accuracy: 0.9806 - loss: 0.0515 - val_accuracy: 0.9303 - val_loss: 0.2235\n",
      "Epoch 15/20\n",
      "\u001b[1m83/83\u001b[0m \u001b[32m━━━━━━━━━━━━━━━━━━━━\u001b[0m\u001b[37m\u001b[0m \u001b[1m2s\u001b[0m 27ms/step - accuracy: 0.9774 - loss: 0.0614 - val_accuracy: 0.9318 - val_loss: 0.2615\n",
      "Epoch 16/20\n",
      "\u001b[1m83/83\u001b[0m \u001b[32m━━━━━━━━━━━━━━━━━━━━\u001b[0m\u001b[37m\u001b[0m \u001b[1m2s\u001b[0m 28ms/step - accuracy: 0.9821 - loss: 0.0619 - val_accuracy: 0.9182 - val_loss: 0.3118\n",
      "Epoch 17/20\n",
      "\u001b[1m83/83\u001b[0m \u001b[32m━━━━━━━━━━━━━━━━━━━━\u001b[0m\u001b[37m\u001b[0m \u001b[1m2s\u001b[0m 21ms/step - accuracy: 0.9712 - loss: 0.0777 - val_accuracy: 0.9227 - val_loss: 0.3140\n",
      "Epoch 18/20\n",
      "\u001b[1m83/83\u001b[0m \u001b[32m━━━━━━━━━━━━━━━━━━━━\u001b[0m\u001b[37m\u001b[0m \u001b[1m2s\u001b[0m 27ms/step - accuracy: 0.9807 - loss: 0.0528 - val_accuracy: 0.9333 - val_loss: 0.2962\n",
      "Epoch 19/20\n",
      "\u001b[1m83/83\u001b[0m \u001b[32m━━━━━━━━━━━━━━━━━━━━\u001b[0m\u001b[37m\u001b[0m \u001b[1m2s\u001b[0m 22ms/step - accuracy: 0.9775 - loss: 0.0602 - val_accuracy: 0.9303 - val_loss: 0.2637\n",
      "Epoch 20/20\n",
      "\u001b[1m83/83\u001b[0m \u001b[32m━━━━━━━━━━━━━━━━━━━━\u001b[0m\u001b[37m\u001b[0m \u001b[1m2s\u001b[0m 26ms/step - accuracy: 0.9860 - loss: 0.0438 - val_accuracy: 0.9303 - val_loss: 0.2513\n"
     ]
    },
    {
     "data": {
      "text/plain": [
       "<keras.src.callbacks.history.History at 0x28afac6ccb0>"
      ]
     },
     "execution_count": 8,
     "metadata": {},
     "output_type": "execute_result"
    }
   ],
   "source": [
    "model.fit(X_train, y_train, epochs=20, batch_size=32, validation_data=(X_test, y_test))"
   ]
  },
  {
   "cell_type": "code",
   "execution_count": 10,
   "id": "492f46a0-a6f4-4a0b-9a38-e3128ebd470d",
   "metadata": {},
   "outputs": [],
   "source": [
    "def pred(audio_file):\n",
    "    mfcc = extract_mfcc(audio_file)\n",
    "    mfcc = np.expand_dims(mfcc, axis=0)  # Add batch dimension\n",
    "    mfcc = mfcc[..., np.newaxis]  # Add channel dimension\n",
    "\n",
    "    # Predict using the model\n",
    "    prediction = model.predict(mfcc)\n",
    "\n",
    "    if prediction >= 0.5:\n",
    "        return \"scream\"\n",
    "    else:\n",
    "        return \"non-scream\"\n"
   ]
  },
  {
   "cell_type": "code",
   "execution_count": 24,
   "id": "449329b4-bb53-49f1-b418-390e3a64720c",
   "metadata": {},
   "outputs": [
    {
     "name": "stdout",
     "output_type": "stream",
     "text": [
      "\u001b[1m1/1\u001b[0m \u001b[32m━━━━━━━━━━━━━━━━━━━━\u001b[0m\u001b[37m\u001b[0m \u001b[1m0s\u001b[0m 58ms/step\n",
      "Prediction for the given audio file: non-scream\n"
     ]
    }
   ],
   "source": [
    "file_to_predict = r\"C:\\Users\\user\\Desktop\\Project\\files\\testaudio\\4.wav\"\n",
    "prediction_result = pred(file_to_predict)\n",
    "print(\"Prediction for the given audio file:\", prediction_result)"
   ]
  },
  {
   "cell_type": "code",
   "execution_count": null,
   "id": "0f8859d2-4dc9-45db-84b5-1f732cda8309",
   "metadata": {},
   "outputs": [],
   "source": []
  }
 ],
 "metadata": {
  "kernelspec": {
   "display_name": "Python 3 (ipykernel)",
   "language": "python",
   "name": "python3"
  },
  "language_info": {
   "codemirror_mode": {
    "name": "ipython",
    "version": 3
   },
   "file_extension": ".py",
   "mimetype": "text/x-python",
   "name": "python",
   "nbconvert_exporter": "python",
   "pygments_lexer": "ipython3",
   "version": "3.12.5"
  }
 },
 "nbformat": 4,
 "nbformat_minor": 5
}
